{
 "cells": [
  {
   "cell_type": "code",
   "execution_count": 12,
   "id": "b515469f",
   "metadata": {
    "scrolled": true
   },
   "outputs": [
    {
     "name": "stdout",
     "output_type": "stream",
     "text": [
      "(568630, 31)\n"
     ]
    },
    {
     "data": {
      "text/html": [
       "<div>\n",
       "<style scoped>\n",
       "    .dataframe tbody tr th:only-of-type {\n",
       "        vertical-align: middle;\n",
       "    }\n",
       "\n",
       "    .dataframe tbody tr th {\n",
       "        vertical-align: top;\n",
       "    }\n",
       "\n",
       "    .dataframe thead th {\n",
       "        text-align: right;\n",
       "    }\n",
       "</style>\n",
       "<table border=\"1\" class=\"dataframe\">\n",
       "  <thead>\n",
       "    <tr style=\"text-align: right;\">\n",
       "      <th></th>\n",
       "      <th>id</th>\n",
       "      <th>V1</th>\n",
       "      <th>V2</th>\n",
       "      <th>V3</th>\n",
       "      <th>V4</th>\n",
       "      <th>V5</th>\n",
       "      <th>V6</th>\n",
       "      <th>V7</th>\n",
       "      <th>V8</th>\n",
       "      <th>V9</th>\n",
       "      <th>...</th>\n",
       "      <th>V21</th>\n",
       "      <th>V22</th>\n",
       "      <th>V23</th>\n",
       "      <th>V24</th>\n",
       "      <th>V25</th>\n",
       "      <th>V26</th>\n",
       "      <th>V27</th>\n",
       "      <th>V28</th>\n",
       "      <th>Amount</th>\n",
       "      <th>Class</th>\n",
       "    </tr>\n",
       "  </thead>\n",
       "  <tbody>\n",
       "    <tr>\n",
       "      <th>0</th>\n",
       "      <td>0</td>\n",
       "      <td>-0.260648</td>\n",
       "      <td>-0.469648</td>\n",
       "      <td>2.496266</td>\n",
       "      <td>-0.083724</td>\n",
       "      <td>0.129681</td>\n",
       "      <td>0.732898</td>\n",
       "      <td>0.519014</td>\n",
       "      <td>-0.130006</td>\n",
       "      <td>0.727159</td>\n",
       "      <td>...</td>\n",
       "      <td>-0.110552</td>\n",
       "      <td>0.217606</td>\n",
       "      <td>-0.134794</td>\n",
       "      <td>0.165959</td>\n",
       "      <td>0.126280</td>\n",
       "      <td>-0.434824</td>\n",
       "      <td>-0.081230</td>\n",
       "      <td>-0.151045</td>\n",
       "      <td>17982.10</td>\n",
       "      <td>0</td>\n",
       "    </tr>\n",
       "    <tr>\n",
       "      <th>1</th>\n",
       "      <td>1</td>\n",
       "      <td>0.985100</td>\n",
       "      <td>-0.356045</td>\n",
       "      <td>0.558056</td>\n",
       "      <td>-0.429654</td>\n",
       "      <td>0.277140</td>\n",
       "      <td>0.428605</td>\n",
       "      <td>0.406466</td>\n",
       "      <td>-0.133118</td>\n",
       "      <td>0.347452</td>\n",
       "      <td>...</td>\n",
       "      <td>-0.194936</td>\n",
       "      <td>-0.605761</td>\n",
       "      <td>0.079469</td>\n",
       "      <td>-0.577395</td>\n",
       "      <td>0.190090</td>\n",
       "      <td>0.296503</td>\n",
       "      <td>-0.248052</td>\n",
       "      <td>-0.064512</td>\n",
       "      <td>6531.37</td>\n",
       "      <td>0</td>\n",
       "    </tr>\n",
       "    <tr>\n",
       "      <th>2</th>\n",
       "      <td>2</td>\n",
       "      <td>-0.260272</td>\n",
       "      <td>-0.949385</td>\n",
       "      <td>1.728538</td>\n",
       "      <td>-0.457986</td>\n",
       "      <td>0.074062</td>\n",
       "      <td>1.419481</td>\n",
       "      <td>0.743511</td>\n",
       "      <td>-0.095576</td>\n",
       "      <td>-0.261297</td>\n",
       "      <td>...</td>\n",
       "      <td>-0.005020</td>\n",
       "      <td>0.702906</td>\n",
       "      <td>0.945045</td>\n",
       "      <td>-1.154666</td>\n",
       "      <td>-0.605564</td>\n",
       "      <td>-0.312895</td>\n",
       "      <td>-0.300258</td>\n",
       "      <td>-0.244718</td>\n",
       "      <td>2513.54</td>\n",
       "      <td>0</td>\n",
       "    </tr>\n",
       "    <tr>\n",
       "      <th>3</th>\n",
       "      <td>3</td>\n",
       "      <td>-0.152152</td>\n",
       "      <td>-0.508959</td>\n",
       "      <td>1.746840</td>\n",
       "      <td>-1.090178</td>\n",
       "      <td>0.249486</td>\n",
       "      <td>1.143312</td>\n",
       "      <td>0.518269</td>\n",
       "      <td>-0.065130</td>\n",
       "      <td>-0.205698</td>\n",
       "      <td>...</td>\n",
       "      <td>-0.146927</td>\n",
       "      <td>-0.038212</td>\n",
       "      <td>-0.214048</td>\n",
       "      <td>-1.893131</td>\n",
       "      <td>1.003963</td>\n",
       "      <td>-0.515950</td>\n",
       "      <td>-0.165316</td>\n",
       "      <td>0.048424</td>\n",
       "      <td>5384.44</td>\n",
       "      <td>0</td>\n",
       "    </tr>\n",
       "    <tr>\n",
       "      <th>4</th>\n",
       "      <td>4</td>\n",
       "      <td>-0.206820</td>\n",
       "      <td>-0.165280</td>\n",
       "      <td>1.527053</td>\n",
       "      <td>-0.448293</td>\n",
       "      <td>0.106125</td>\n",
       "      <td>0.530549</td>\n",
       "      <td>0.658849</td>\n",
       "      <td>-0.212660</td>\n",
       "      <td>1.049921</td>\n",
       "      <td>...</td>\n",
       "      <td>-0.106984</td>\n",
       "      <td>0.729727</td>\n",
       "      <td>-0.161666</td>\n",
       "      <td>0.312561</td>\n",
       "      <td>-0.414116</td>\n",
       "      <td>1.071126</td>\n",
       "      <td>0.023712</td>\n",
       "      <td>0.419117</td>\n",
       "      <td>14278.97</td>\n",
       "      <td>0</td>\n",
       "    </tr>\n",
       "  </tbody>\n",
       "</table>\n",
       "<p>5 rows × 31 columns</p>\n",
       "</div>"
      ],
      "text/plain": [
       "   id        V1        V2        V3        V4        V5        V6        V7  \\\n",
       "0   0 -0.260648 -0.469648  2.496266 -0.083724  0.129681  0.732898  0.519014   \n",
       "1   1  0.985100 -0.356045  0.558056 -0.429654  0.277140  0.428605  0.406466   \n",
       "2   2 -0.260272 -0.949385  1.728538 -0.457986  0.074062  1.419481  0.743511   \n",
       "3   3 -0.152152 -0.508959  1.746840 -1.090178  0.249486  1.143312  0.518269   \n",
       "4   4 -0.206820 -0.165280  1.527053 -0.448293  0.106125  0.530549  0.658849   \n",
       "\n",
       "         V8        V9  ...       V21       V22       V23       V24       V25  \\\n",
       "0 -0.130006  0.727159  ... -0.110552  0.217606 -0.134794  0.165959  0.126280   \n",
       "1 -0.133118  0.347452  ... -0.194936 -0.605761  0.079469 -0.577395  0.190090   \n",
       "2 -0.095576 -0.261297  ... -0.005020  0.702906  0.945045 -1.154666 -0.605564   \n",
       "3 -0.065130 -0.205698  ... -0.146927 -0.038212 -0.214048 -1.893131  1.003963   \n",
       "4 -0.212660  1.049921  ... -0.106984  0.729727 -0.161666  0.312561 -0.414116   \n",
       "\n",
       "        V26       V27       V28    Amount  Class  \n",
       "0 -0.434824 -0.081230 -0.151045  17982.10      0  \n",
       "1  0.296503 -0.248052 -0.064512   6531.37      0  \n",
       "2 -0.312895 -0.300258 -0.244718   2513.54      0  \n",
       "3 -0.515950 -0.165316  0.048424   5384.44      0  \n",
       "4  1.071126  0.023712  0.419117  14278.97      0  \n",
       "\n",
       "[5 rows x 31 columns]"
      ]
     },
     "execution_count": 12,
     "metadata": {},
     "output_type": "execute_result"
    }
   ],
   "source": [
    "import numpy as np\n",
    "import pandas as pd\n",
    "import matplotlib.pyplot as plt\n",
    "import seaborn as sns\n",
    "sns.set()\n",
    "%matplotlib inline\n",
    "df = pd.read_csv('creditcard_2023.csv')\n",
    "print(df.shape)\n",
    "df.head()"
   ]
  },
  {
   "cell_type": "code",
   "execution_count": 13,
   "id": "5435495b",
   "metadata": {},
   "outputs": [],
   "source": [
    "from sklearn.model_selection import train_test_split\n",
    "from sklearn.ensemble import RandomForestClassifier\n",
    "from sklearn.metrics import classification_report, confusion_matrix\n",
    "from sklearn.linear_model import LogisticRegression\n",
    "from sklearn.metrics import accuracy_score"
   ]
  },
  {
   "cell_type": "code",
   "execution_count": 14,
   "id": "7650aeea",
   "metadata": {},
   "outputs": [
    {
     "name": "stdout",
     "output_type": "stream",
     "text": [
      "<class 'pandas.core.frame.DataFrame'>\n",
      "RangeIndex: 568630 entries, 0 to 568629\n",
      "Data columns (total 31 columns):\n",
      " #   Column  Non-Null Count   Dtype  \n",
      "---  ------  --------------   -----  \n",
      " 0   id      568630 non-null  int64  \n",
      " 1   V1      568630 non-null  float64\n",
      " 2   V2      568630 non-null  float64\n",
      " 3   V3      568630 non-null  float64\n",
      " 4   V4      568630 non-null  float64\n",
      " 5   V5      568630 non-null  float64\n",
      " 6   V6      568630 non-null  float64\n",
      " 7   V7      568630 non-null  float64\n",
      " 8   V8      568630 non-null  float64\n",
      " 9   V9      568630 non-null  float64\n",
      " 10  V10     568630 non-null  float64\n",
      " 11  V11     568630 non-null  float64\n",
      " 12  V12     568630 non-null  float64\n",
      " 13  V13     568630 non-null  float64\n",
      " 14  V14     568630 non-null  float64\n",
      " 15  V15     568630 non-null  float64\n",
      " 16  V16     568630 non-null  float64\n",
      " 17  V17     568630 non-null  float64\n",
      " 18  V18     568630 non-null  float64\n",
      " 19  V19     568630 non-null  float64\n",
      " 20  V20     568630 non-null  float64\n",
      " 21  V21     568630 non-null  float64\n",
      " 22  V22     568630 non-null  float64\n",
      " 23  V23     568630 non-null  float64\n",
      " 24  V24     568630 non-null  float64\n",
      " 25  V25     568630 non-null  float64\n",
      " 26  V26     568630 non-null  float64\n",
      " 27  V27     568630 non-null  float64\n",
      " 28  V28     568630 non-null  float64\n",
      " 29  Amount  568630 non-null  float64\n",
      " 30  Class   568630 non-null  int64  \n",
      "dtypes: float64(29), int64(2)\n",
      "memory usage: 134.5 MB\n"
     ]
    }
   ],
   "source": [
    "df.info()"
   ]
  },
  {
   "cell_type": "code",
   "execution_count": 15,
   "id": "427d0fd0",
   "metadata": {},
   "outputs": [
    {
     "data": {
      "text/html": [
       "<div>\n",
       "<style scoped>\n",
       "    .dataframe tbody tr th:only-of-type {\n",
       "        vertical-align: middle;\n",
       "    }\n",
       "\n",
       "    .dataframe tbody tr th {\n",
       "        vertical-align: top;\n",
       "    }\n",
       "\n",
       "    .dataframe thead th {\n",
       "        text-align: right;\n",
       "    }\n",
       "</style>\n",
       "<table border=\"1\" class=\"dataframe\">\n",
       "  <thead>\n",
       "    <tr style=\"text-align: right;\">\n",
       "      <th></th>\n",
       "      <th>id</th>\n",
       "      <th>V1</th>\n",
       "      <th>V2</th>\n",
       "      <th>V3</th>\n",
       "      <th>V4</th>\n",
       "      <th>V5</th>\n",
       "      <th>V6</th>\n",
       "      <th>V7</th>\n",
       "      <th>V8</th>\n",
       "      <th>V9</th>\n",
       "      <th>...</th>\n",
       "      <th>V21</th>\n",
       "      <th>V22</th>\n",
       "      <th>V23</th>\n",
       "      <th>V24</th>\n",
       "      <th>V25</th>\n",
       "      <th>V26</th>\n",
       "      <th>V27</th>\n",
       "      <th>V28</th>\n",
       "      <th>Amount</th>\n",
       "      <th>Class</th>\n",
       "    </tr>\n",
       "  </thead>\n",
       "  <tbody>\n",
       "    <tr>\n",
       "      <th>count</th>\n",
       "      <td>568630.000000</td>\n",
       "      <td>5.686300e+05</td>\n",
       "      <td>5.686300e+05</td>\n",
       "      <td>5.686300e+05</td>\n",
       "      <td>5.686300e+05</td>\n",
       "      <td>5.686300e+05</td>\n",
       "      <td>5.686300e+05</td>\n",
       "      <td>5.686300e+05</td>\n",
       "      <td>5.686300e+05</td>\n",
       "      <td>5.686300e+05</td>\n",
       "      <td>...</td>\n",
       "      <td>5.686300e+05</td>\n",
       "      <td>5.686300e+05</td>\n",
       "      <td>5.686300e+05</td>\n",
       "      <td>5.686300e+05</td>\n",
       "      <td>5.686300e+05</td>\n",
       "      <td>5.686300e+05</td>\n",
       "      <td>5.686300e+05</td>\n",
       "      <td>5.686300e+05</td>\n",
       "      <td>568630.000000</td>\n",
       "      <td>568630.0</td>\n",
       "    </tr>\n",
       "    <tr>\n",
       "      <th>mean</th>\n",
       "      <td>284314.500000</td>\n",
       "      <td>-1.109271e-14</td>\n",
       "      <td>-3.429498e-14</td>\n",
       "      <td>-1.209242e-14</td>\n",
       "      <td>3.825991e-15</td>\n",
       "      <td>6.288281e-15</td>\n",
       "      <td>-2.751174e-14</td>\n",
       "      <td>1.240002e-14</td>\n",
       "      <td>8.208047e-15</td>\n",
       "      <td>-1.002980e-14</td>\n",
       "      <td>...</td>\n",
       "      <td>2.210679e-15</td>\n",
       "      <td>-8.767441e-16</td>\n",
       "      <td>4.376179e-16</td>\n",
       "      <td>6.825608e-16</td>\n",
       "      <td>2.545689e-15</td>\n",
       "      <td>1.781906e-15</td>\n",
       "      <td>2.817586e-15</td>\n",
       "      <td>2.891419e-15</td>\n",
       "      <td>12041.957635</td>\n",
       "      <td>0.5</td>\n",
       "    </tr>\n",
       "    <tr>\n",
       "      <th>std</th>\n",
       "      <td>164149.486121</td>\n",
       "      <td>1.000001e+00</td>\n",
       "      <td>1.000001e+00</td>\n",
       "      <td>1.000001e+00</td>\n",
       "      <td>1.000001e+00</td>\n",
       "      <td>1.000001e+00</td>\n",
       "      <td>1.000001e+00</td>\n",
       "      <td>1.000001e+00</td>\n",
       "      <td>1.000001e+00</td>\n",
       "      <td>1.000001e+00</td>\n",
       "      <td>...</td>\n",
       "      <td>1.000001e+00</td>\n",
       "      <td>1.000001e+00</td>\n",
       "      <td>1.000001e+00</td>\n",
       "      <td>1.000001e+00</td>\n",
       "      <td>1.000001e+00</td>\n",
       "      <td>1.000001e+00</td>\n",
       "      <td>1.000001e+00</td>\n",
       "      <td>1.000001e+00</td>\n",
       "      <td>6919.644449</td>\n",
       "      <td>0.5</td>\n",
       "    </tr>\n",
       "    <tr>\n",
       "      <th>min</th>\n",
       "      <td>0.000000</td>\n",
       "      <td>-3.495584e+00</td>\n",
       "      <td>-4.996657e+01</td>\n",
       "      <td>-3.183760e+00</td>\n",
       "      <td>-4.951222e+00</td>\n",
       "      <td>-9.952786e+00</td>\n",
       "      <td>-2.111111e+01</td>\n",
       "      <td>-4.351839e+00</td>\n",
       "      <td>-1.075634e+01</td>\n",
       "      <td>-3.751919e+00</td>\n",
       "      <td>...</td>\n",
       "      <td>-1.938252e+01</td>\n",
       "      <td>-7.734798e+00</td>\n",
       "      <td>-3.029545e+01</td>\n",
       "      <td>-4.067968e+00</td>\n",
       "      <td>-1.361263e+01</td>\n",
       "      <td>-8.226969e+00</td>\n",
       "      <td>-1.049863e+01</td>\n",
       "      <td>-3.903524e+01</td>\n",
       "      <td>50.010000</td>\n",
       "      <td>0.0</td>\n",
       "    </tr>\n",
       "    <tr>\n",
       "      <th>25%</th>\n",
       "      <td>142157.250000</td>\n",
       "      <td>-5.652859e-01</td>\n",
       "      <td>-4.866777e-01</td>\n",
       "      <td>-6.492987e-01</td>\n",
       "      <td>-6.560203e-01</td>\n",
       "      <td>-2.934955e-01</td>\n",
       "      <td>-4.458712e-01</td>\n",
       "      <td>-2.835329e-01</td>\n",
       "      <td>-1.922572e-01</td>\n",
       "      <td>-5.687446e-01</td>\n",
       "      <td>...</td>\n",
       "      <td>-1.664408e-01</td>\n",
       "      <td>-4.904892e-01</td>\n",
       "      <td>-2.376289e-01</td>\n",
       "      <td>-6.515801e-01</td>\n",
       "      <td>-5.541485e-01</td>\n",
       "      <td>-6.318948e-01</td>\n",
       "      <td>-3.049607e-01</td>\n",
       "      <td>-2.318783e-01</td>\n",
       "      <td>6054.892500</td>\n",
       "      <td>0.0</td>\n",
       "    </tr>\n",
       "    <tr>\n",
       "      <th>50%</th>\n",
       "      <td>284314.500000</td>\n",
       "      <td>-9.363846e-02</td>\n",
       "      <td>-1.358939e-01</td>\n",
       "      <td>3.528579e-04</td>\n",
       "      <td>-7.376152e-02</td>\n",
       "      <td>8.108788e-02</td>\n",
       "      <td>7.871758e-02</td>\n",
       "      <td>2.333659e-01</td>\n",
       "      <td>-1.145242e-01</td>\n",
       "      <td>9.252647e-02</td>\n",
       "      <td>...</td>\n",
       "      <td>-3.743065e-02</td>\n",
       "      <td>-2.732881e-02</td>\n",
       "      <td>-5.968903e-02</td>\n",
       "      <td>1.590123e-02</td>\n",
       "      <td>-8.193162e-03</td>\n",
       "      <td>-1.189208e-02</td>\n",
       "      <td>-1.729111e-01</td>\n",
       "      <td>-1.392973e-02</td>\n",
       "      <td>12030.150000</td>\n",
       "      <td>0.5</td>\n",
       "    </tr>\n",
       "    <tr>\n",
       "      <th>75%</th>\n",
       "      <td>426471.750000</td>\n",
       "      <td>8.326582e-01</td>\n",
       "      <td>3.435552e-01</td>\n",
       "      <td>6.285380e-01</td>\n",
       "      <td>7.070047e-01</td>\n",
       "      <td>4.397368e-01</td>\n",
       "      <td>4.977881e-01</td>\n",
       "      <td>5.259548e-01</td>\n",
       "      <td>4.729905e-02</td>\n",
       "      <td>5.592621e-01</td>\n",
       "      <td>...</td>\n",
       "      <td>1.479787e-01</td>\n",
       "      <td>4.638817e-01</td>\n",
       "      <td>1.557153e-01</td>\n",
       "      <td>7.007374e-01</td>\n",
       "      <td>5.500147e-01</td>\n",
       "      <td>6.728879e-01</td>\n",
       "      <td>3.340230e-01</td>\n",
       "      <td>4.095903e-01</td>\n",
       "      <td>18036.330000</td>\n",
       "      <td>1.0</td>\n",
       "    </tr>\n",
       "    <tr>\n",
       "      <th>max</th>\n",
       "      <td>568629.000000</td>\n",
       "      <td>2.229046e+00</td>\n",
       "      <td>4.361865e+00</td>\n",
       "      <td>1.412583e+01</td>\n",
       "      <td>3.201536e+00</td>\n",
       "      <td>4.271689e+01</td>\n",
       "      <td>2.616840e+01</td>\n",
       "      <td>2.178730e+02</td>\n",
       "      <td>5.958040e+00</td>\n",
       "      <td>2.027006e+01</td>\n",
       "      <td>...</td>\n",
       "      <td>8.087080e+00</td>\n",
       "      <td>1.263251e+01</td>\n",
       "      <td>3.170763e+01</td>\n",
       "      <td>1.296564e+01</td>\n",
       "      <td>1.462151e+01</td>\n",
       "      <td>5.623285e+00</td>\n",
       "      <td>1.132311e+02</td>\n",
       "      <td>7.725594e+01</td>\n",
       "      <td>24039.930000</td>\n",
       "      <td>1.0</td>\n",
       "    </tr>\n",
       "  </tbody>\n",
       "</table>\n",
       "<p>8 rows × 31 columns</p>\n",
       "</div>"
      ],
      "text/plain": [
       "                  id            V1            V2            V3            V4  \\\n",
       "count  568630.000000  5.686300e+05  5.686300e+05  5.686300e+05  5.686300e+05   \n",
       "mean   284314.500000 -1.109271e-14 -3.429498e-14 -1.209242e-14  3.825991e-15   \n",
       "std    164149.486121  1.000001e+00  1.000001e+00  1.000001e+00  1.000001e+00   \n",
       "min         0.000000 -3.495584e+00 -4.996657e+01 -3.183760e+00 -4.951222e+00   \n",
       "25%    142157.250000 -5.652859e-01 -4.866777e-01 -6.492987e-01 -6.560203e-01   \n",
       "50%    284314.500000 -9.363846e-02 -1.358939e-01  3.528579e-04 -7.376152e-02   \n",
       "75%    426471.750000  8.326582e-01  3.435552e-01  6.285380e-01  7.070047e-01   \n",
       "max    568629.000000  2.229046e+00  4.361865e+00  1.412583e+01  3.201536e+00   \n",
       "\n",
       "                 V5            V6            V7            V8            V9  \\\n",
       "count  5.686300e+05  5.686300e+05  5.686300e+05  5.686300e+05  5.686300e+05   \n",
       "mean   6.288281e-15 -2.751174e-14  1.240002e-14  8.208047e-15 -1.002980e-14   \n",
       "std    1.000001e+00  1.000001e+00  1.000001e+00  1.000001e+00  1.000001e+00   \n",
       "min   -9.952786e+00 -2.111111e+01 -4.351839e+00 -1.075634e+01 -3.751919e+00   \n",
       "25%   -2.934955e-01 -4.458712e-01 -2.835329e-01 -1.922572e-01 -5.687446e-01   \n",
       "50%    8.108788e-02  7.871758e-02  2.333659e-01 -1.145242e-01  9.252647e-02   \n",
       "75%    4.397368e-01  4.977881e-01  5.259548e-01  4.729905e-02  5.592621e-01   \n",
       "max    4.271689e+01  2.616840e+01  2.178730e+02  5.958040e+00  2.027006e+01   \n",
       "\n",
       "       ...           V21           V22           V23           V24  \\\n",
       "count  ...  5.686300e+05  5.686300e+05  5.686300e+05  5.686300e+05   \n",
       "mean   ...  2.210679e-15 -8.767441e-16  4.376179e-16  6.825608e-16   \n",
       "std    ...  1.000001e+00  1.000001e+00  1.000001e+00  1.000001e+00   \n",
       "min    ... -1.938252e+01 -7.734798e+00 -3.029545e+01 -4.067968e+00   \n",
       "25%    ... -1.664408e-01 -4.904892e-01 -2.376289e-01 -6.515801e-01   \n",
       "50%    ... -3.743065e-02 -2.732881e-02 -5.968903e-02  1.590123e-02   \n",
       "75%    ...  1.479787e-01  4.638817e-01  1.557153e-01  7.007374e-01   \n",
       "max    ...  8.087080e+00  1.263251e+01  3.170763e+01  1.296564e+01   \n",
       "\n",
       "                V25           V26           V27           V28         Amount  \\\n",
       "count  5.686300e+05  5.686300e+05  5.686300e+05  5.686300e+05  568630.000000   \n",
       "mean   2.545689e-15  1.781906e-15  2.817586e-15  2.891419e-15   12041.957635   \n",
       "std    1.000001e+00  1.000001e+00  1.000001e+00  1.000001e+00    6919.644449   \n",
       "min   -1.361263e+01 -8.226969e+00 -1.049863e+01 -3.903524e+01      50.010000   \n",
       "25%   -5.541485e-01 -6.318948e-01 -3.049607e-01 -2.318783e-01    6054.892500   \n",
       "50%   -8.193162e-03 -1.189208e-02 -1.729111e-01 -1.392973e-02   12030.150000   \n",
       "75%    5.500147e-01  6.728879e-01  3.340230e-01  4.095903e-01   18036.330000   \n",
       "max    1.462151e+01  5.623285e+00  1.132311e+02  7.725594e+01   24039.930000   \n",
       "\n",
       "          Class  \n",
       "count  568630.0  \n",
       "mean        0.5  \n",
       "std         0.5  \n",
       "min         0.0  \n",
       "25%         0.0  \n",
       "50%         0.5  \n",
       "75%         1.0  \n",
       "max         1.0  \n",
       "\n",
       "[8 rows x 31 columns]"
      ]
     },
     "execution_count": 15,
     "metadata": {},
     "output_type": "execute_result"
    }
   ],
   "source": [
    "df.describe()"
   ]
  },
  {
   "cell_type": "code",
   "execution_count": 16,
   "id": "3847b28c",
   "metadata": {},
   "outputs": [
    {
     "data": {
      "text/plain": [
       "0    284315\n",
       "1    284315\n",
       "Name: Class, dtype: int64"
      ]
     },
     "execution_count": 16,
     "metadata": {},
     "output_type": "execute_result"
    }
   ],
   "source": [
    "# distribution of legit transactions & fraudulent transactions\n",
    "df['Class'].value_counts()"
   ]
  },
  {
   "cell_type": "code",
   "execution_count": 17,
   "id": "b60b4d11",
   "metadata": {},
   "outputs": [
    {
     "data": {
      "text/plain": [
       "<bound method NDFrame.head of             id        V1        V2        V3        V4        V5        V6  \\\n",
       "0            0 -0.260648 -0.469648  2.496266 -0.083724  0.129681  0.732898   \n",
       "1            1  0.985100 -0.356045  0.558056 -0.429654  0.277140  0.428605   \n",
       "2            2 -0.260272 -0.949385  1.728538 -0.457986  0.074062  1.419481   \n",
       "3            3 -0.152152 -0.508959  1.746840 -1.090178  0.249486  1.143312   \n",
       "4            4 -0.206820 -0.165280  1.527053 -0.448293  0.106125  0.530549   \n",
       "...        ...       ...       ...       ...       ...       ...       ...   \n",
       "568625  568625 -0.833437  0.061886 -0.899794  0.904227 -1.002401  0.481454   \n",
       "568626  568626 -0.670459 -0.202896 -0.068129 -0.267328 -0.133660  0.237148   \n",
       "568627  568627 -0.311997 -0.004095  0.137526 -0.035893 -0.042291  0.121098   \n",
       "568628  568628  0.636871 -0.516970 -0.300889 -0.144480  0.131042 -0.294148   \n",
       "568629  568629 -0.795144  0.433236 -0.649140  0.374732 -0.244976 -0.603493   \n",
       "\n",
       "              V7        V8        V9  ...       V21       V22       V23  \\\n",
       "0       0.519014 -0.130006  0.727159  ... -0.110552  0.217606 -0.134794   \n",
       "1       0.406466 -0.133118  0.347452  ... -0.194936 -0.605761  0.079469   \n",
       "2       0.743511 -0.095576 -0.261297  ... -0.005020  0.702906  0.945045   \n",
       "3       0.518269 -0.065130 -0.205698  ... -0.146927 -0.038212 -0.214048   \n",
       "4       0.658849 -0.212660  1.049921  ... -0.106984  0.729727 -0.161666   \n",
       "...          ...       ...       ...  ...       ...       ...       ...   \n",
       "568625 -0.370393  0.189694 -0.938153  ...  0.167503  0.419731  1.288249   \n",
       "568626 -0.016935 -0.147733  0.483894  ...  0.031874  0.388161 -0.154257   \n",
       "568627 -0.070958 -0.019997 -0.122048  ...  0.140788  0.536523 -0.211100   \n",
       "568628  0.580568 -0.207723  0.893527  ... -0.060381 -0.195609 -0.175488   \n",
       "568629 -0.347613 -0.340814  0.253971  ...  0.534853 -0.291514  0.157303   \n",
       "\n",
       "             V24       V25       V26       V27       V28    Amount  Class  \n",
       "0       0.165959  0.126280 -0.434824 -0.081230 -0.151045  17982.10      0  \n",
       "1      -0.577395  0.190090  0.296503 -0.248052 -0.064512   6531.37      0  \n",
       "2      -1.154666 -0.605564 -0.312895 -0.300258 -0.244718   2513.54      0  \n",
       "3      -1.893131  1.003963 -0.515950 -0.165316  0.048424   5384.44      0  \n",
       "4       0.312561 -0.414116  1.071126  0.023712  0.419117  14278.97      0  \n",
       "...          ...       ...       ...       ...       ...       ...    ...  \n",
       "568625 -0.900861  0.560661 -0.006018  3.308968  0.081564   4394.16      1  \n",
       "568626 -0.846452 -0.153443  1.961398 -1.528642  1.704306   4653.40      1  \n",
       "568627 -0.448909  0.540073 -0.755836 -0.487540 -0.268741  23572.85      1  \n",
       "568628 -0.554643 -0.099669 -1.434931 -0.159269 -0.076251  10160.83      1  \n",
       "568629  0.931030 -0.349423 -1.090974 -1.575113  0.722936  21493.92      1  \n",
       "\n",
       "[568630 rows x 31 columns]>"
      ]
     },
     "execution_count": 17,
     "metadata": {},
     "output_type": "execute_result"
    }
   ],
   "source": [
    "df.head"
   ]
  },
  {
   "cell_type": "code",
   "execution_count": 18,
   "id": "69db825a",
   "metadata": {},
   "outputs": [
    {
     "data": {
      "text/plain": [
       "id        0\n",
       "V1        0\n",
       "V2        0\n",
       "V3        0\n",
       "V4        0\n",
       "V5        0\n",
       "V6        0\n",
       "V7        0\n",
       "V8        0\n",
       "V9        0\n",
       "V10       0\n",
       "V11       0\n",
       "V12       0\n",
       "V13       0\n",
       "V14       0\n",
       "V15       0\n",
       "V16       0\n",
       "V17       0\n",
       "V18       0\n",
       "V19       0\n",
       "V20       0\n",
       "V21       0\n",
       "V22       0\n",
       "V23       0\n",
       "V24       0\n",
       "V25       0\n",
       "V26       0\n",
       "V27       0\n",
       "V28       0\n",
       "Amount    0\n",
       "Class     0\n",
       "dtype: int64"
      ]
     },
     "execution_count": 18,
     "metadata": {},
     "output_type": "execute_result"
    }
   ],
   "source": [
    "df.isnull().sum()"
   ]
  },
  {
   "cell_type": "code",
   "execution_count": 19,
   "id": "edc27ea8",
   "metadata": {},
   "outputs": [
    {
     "data": {
      "text/plain": [
       "0    284315\n",
       "1    284315\n",
       "Name: Class, dtype: int64"
      ]
     },
     "execution_count": 19,
     "metadata": {},
     "output_type": "execute_result"
    }
   ],
   "source": [
    "df['Class'].value_counts()"
   ]
  },
  {
   "cell_type": "code",
   "execution_count": 20,
   "id": "47062675",
   "metadata": {},
   "outputs": [],
   "source": [
    "# separating the data for analysis\n",
    "legit = df[df.Class == 0]\n",
    "fraud = df[df.Class == 1]"
   ]
  },
  {
   "cell_type": "code",
   "execution_count": 21,
   "id": "5e5876d1",
   "metadata": {},
   "outputs": [
    {
     "name": "stdout",
     "output_type": "stream",
     "text": [
      "(284315, 31)\n",
      "(284315, 31)\n"
     ]
    }
   ],
   "source": [
    "print(legit.shape)\n",
    "print(fraud.shape)"
   ]
  },
  {
   "cell_type": "code",
   "execution_count": 22,
   "id": "5436b468",
   "metadata": {},
   "outputs": [
    {
     "data": {
      "text/plain": [
       "count    284315.000000\n",
       "mean      12026.313506\n",
       "std        6929.500715\n",
       "min          50.120000\n",
       "25%        6034.540000\n",
       "50%       11996.900000\n",
       "75%       18040.265000\n",
       "max       24039.930000\n",
       "Name: Amount, dtype: float64"
      ]
     },
     "execution_count": 22,
     "metadata": {},
     "output_type": "execute_result"
    }
   ],
   "source": [
    "#statistical measure of the data\n",
    "legit.Amount.describe()"
   ]
  },
  {
   "cell_type": "code",
   "execution_count": 23,
   "id": "f6349841",
   "metadata": {},
   "outputs": [
    {
     "data": {
      "text/plain": [
       "count    284315.000000\n",
       "mean      12057.601763\n",
       "std        6909.750891\n",
       "min          50.010000\n",
       "25%        6074.640000\n",
       "50%       12062.450000\n",
       "75%       18033.780000\n",
       "max       24039.930000\n",
       "Name: Amount, dtype: float64"
      ]
     },
     "execution_count": 23,
     "metadata": {},
     "output_type": "execute_result"
    }
   ],
   "source": [
    "fraud.Amount.describe()"
   ]
  },
  {
   "cell_type": "code",
   "execution_count": 24,
   "id": "ef7e602e",
   "metadata": {
    "scrolled": true
   },
   "outputs": [
    {
     "data": {
      "text/html": [
       "<div>\n",
       "<style scoped>\n",
       "    .dataframe tbody tr th:only-of-type {\n",
       "        vertical-align: middle;\n",
       "    }\n",
       "\n",
       "    .dataframe tbody tr th {\n",
       "        vertical-align: top;\n",
       "    }\n",
       "\n",
       "    .dataframe thead th {\n",
       "        text-align: right;\n",
       "    }\n",
       "</style>\n",
       "<table border=\"1\" class=\"dataframe\">\n",
       "  <thead>\n",
       "    <tr style=\"text-align: right;\">\n",
       "      <th></th>\n",
       "      <th>id</th>\n",
       "      <th>V1</th>\n",
       "      <th>V2</th>\n",
       "      <th>V3</th>\n",
       "      <th>V4</th>\n",
       "      <th>V5</th>\n",
       "      <th>V6</th>\n",
       "      <th>V7</th>\n",
       "      <th>V8</th>\n",
       "      <th>V9</th>\n",
       "      <th>...</th>\n",
       "      <th>V20</th>\n",
       "      <th>V21</th>\n",
       "      <th>V22</th>\n",
       "      <th>V23</th>\n",
       "      <th>V24</th>\n",
       "      <th>V25</th>\n",
       "      <th>V26</th>\n",
       "      <th>V27</th>\n",
       "      <th>V28</th>\n",
       "      <th>Amount</th>\n",
       "    </tr>\n",
       "    <tr>\n",
       "      <th>Class</th>\n",
       "      <th></th>\n",
       "      <th></th>\n",
       "      <th></th>\n",
       "      <th></th>\n",
       "      <th></th>\n",
       "      <th></th>\n",
       "      <th></th>\n",
       "      <th></th>\n",
       "      <th></th>\n",
       "      <th></th>\n",
       "      <th></th>\n",
       "      <th></th>\n",
       "      <th></th>\n",
       "      <th></th>\n",
       "      <th></th>\n",
       "      <th></th>\n",
       "      <th></th>\n",
       "      <th></th>\n",
       "      <th></th>\n",
       "      <th></th>\n",
       "      <th></th>\n",
       "    </tr>\n",
       "  </thead>\n",
       "  <tbody>\n",
       "    <tr>\n",
       "      <th>0</th>\n",
       "      <td>142442.987714</td>\n",
       "      <td>0.505761</td>\n",
       "      <td>-0.491878</td>\n",
       "      <td>0.682095</td>\n",
       "      <td>-0.735981</td>\n",
       "      <td>0.338639</td>\n",
       "      <td>0.435088</td>\n",
       "      <td>0.491234</td>\n",
       "      <td>-0.144294</td>\n",
       "      <td>0.585522</td>\n",
       "      <td>...</td>\n",
       "      <td>-0.179851</td>\n",
       "      <td>-0.10964</td>\n",
       "      <td>-0.014098</td>\n",
       "      <td>-0.010255</td>\n",
       "      <td>0.130107</td>\n",
       "      <td>-0.061847</td>\n",
       "      <td>-0.071052</td>\n",
       "      <td>-0.214002</td>\n",
       "      <td>-0.102024</td>\n",
       "      <td>12026.313506</td>\n",
       "    </tr>\n",
       "    <tr>\n",
       "      <th>1</th>\n",
       "      <td>426186.012286</td>\n",
       "      <td>-0.505761</td>\n",
       "      <td>0.491878</td>\n",
       "      <td>-0.682095</td>\n",
       "      <td>0.735981</td>\n",
       "      <td>-0.338639</td>\n",
       "      <td>-0.435088</td>\n",
       "      <td>-0.491234</td>\n",
       "      <td>0.144294</td>\n",
       "      <td>-0.585522</td>\n",
       "      <td>...</td>\n",
       "      <td>0.179851</td>\n",
       "      <td>0.10964</td>\n",
       "      <td>0.014098</td>\n",
       "      <td>0.010255</td>\n",
       "      <td>-0.130107</td>\n",
       "      <td>0.061847</td>\n",
       "      <td>0.071052</td>\n",
       "      <td>0.214002</td>\n",
       "      <td>0.102024</td>\n",
       "      <td>12057.601763</td>\n",
       "    </tr>\n",
       "  </tbody>\n",
       "</table>\n",
       "<p>2 rows × 30 columns</p>\n",
       "</div>"
      ],
      "text/plain": [
       "                  id        V1        V2        V3        V4        V5  \\\n",
       "Class                                                                    \n",
       "0      142442.987714  0.505761 -0.491878  0.682095 -0.735981  0.338639   \n",
       "1      426186.012286 -0.505761  0.491878 -0.682095  0.735981 -0.338639   \n",
       "\n",
       "             V6        V7        V8        V9  ...       V20      V21  \\\n",
       "Class                                          ...                      \n",
       "0      0.435088  0.491234 -0.144294  0.585522  ... -0.179851 -0.10964   \n",
       "1     -0.435088 -0.491234  0.144294 -0.585522  ...  0.179851  0.10964   \n",
       "\n",
       "            V22       V23       V24       V25       V26       V27       V28  \\\n",
       "Class                                                                         \n",
       "0     -0.014098 -0.010255  0.130107 -0.061847 -0.071052 -0.214002 -0.102024   \n",
       "1      0.014098  0.010255 -0.130107  0.061847  0.071052  0.214002  0.102024   \n",
       "\n",
       "             Amount  \n",
       "Class                \n",
       "0      12026.313506  \n",
       "1      12057.601763  \n",
       "\n",
       "[2 rows x 30 columns]"
      ]
     },
     "execution_count": 24,
     "metadata": {},
     "output_type": "execute_result"
    }
   ],
   "source": [
    "#compare the values for both transactions\n",
    "df.groupby('Class').mean()"
   ]
  },
  {
   "cell_type": "code",
   "execution_count": 52,
   "id": "494ebf6e",
   "metadata": {},
   "outputs": [
    {
     "data": {
      "image/png": "[encoded data removed]",
      "text/plain": [
       "<Figure size 432x288 with 1 Axes>"
      ]
     },
     "metadata": {
      "needs_background": "light"
     },
     "output_type": "display_data"
    }
   ],
   "source": [
    "#visualize the data:\n",
    "labels = [\"Normal\", \"Fraud\"]\n",
    "count_classes =df.value_counts(df['Class'], sort= True)\n",
    "count_classes.plot(kind = \"bar\", rot = 0)\n",
    "plt.title(\"ProjectGurukul\")\n",
    "plt.ylabel(\"Count\")\n",
    "plt.xticks(range(2), labels)\n",
    "plt.show()"
   ]
  },
  {
   "cell_type": "code",
   "execution_count": 54,
   "id": "75d2c196",
   "metadata": {},
   "outputs": [
    {
     "data": {
      "text/plain": [
       "<seaborn.axisgrid.FacetGrid at 0x18694fe89a0>"
      ]
     },
     "execution_count": 54,
     "metadata": {},
     "output_type": "execute_result"
    },
    {
     "data": {
      "image/png": "[encoded data removed]",
      "text/plain": [
       "<Figure size 405.725x360 with 1 Axes>"
      ]
     },
     "metadata": {
      "needs_background": "light"
     },
     "output_type": "display_data"
    }
   ],
   "source": [
    "# statistical measures of the data:\n",
    "legit.Amount.describe()\n",
    "fraud.Amount.describe()\n",
    "# visualize the data using seaborn:\n",
    "sns.relplot(x = 'Amount' , y = 'id' , hue = 'Class', data = df)"
   ]
  },
  {
   "cell_type": "markdown",
   "id": "8b28b6ef",
   "metadata": {},
   "source": [
    "Concatenating two datafames"
   ]
  },
  {
   "cell_type": "code",
   "execution_count": 26,
   "id": "f569e9e2",
   "metadata": {},
   "outputs": [],
   "source": [
    "new_dataset = pd.concat([legit_sample, fraud], axis=0)"
   ]
  },
  {
   "cell_type": "code",
   "execution_count": 27,
   "id": "767b1bf2",
   "metadata": {},
   "outputs": [
    {
     "data": {
      "text/plain": [
       "0    284315\n",
       "1    284315\n",
       "Name: Class, dtype: int64"
      ]
     },
     "execution_count": 27,
     "metadata": {},
     "output_type": "execute_result"
    }
   ],
   "source": [
    "new_dataset['Class'].value_counts()"
   ]
  },
  {
   "cell_type": "code",
   "execution_count": 28,
   "id": "e9580fde",
   "metadata": {},
   "outputs": [
    {
     "data": {
      "text/html": [
       "<div>\n",
       "<style scoped>\n",
       "    .dataframe tbody tr th:only-of-type {\n",
       "        vertical-align: middle;\n",
       "    }\n",
       "\n",
       "    .dataframe tbody tr th {\n",
       "        vertical-align: top;\n",
       "    }\n",
       "\n",
       "    .dataframe thead th {\n",
       "        text-align: right;\n",
       "    }\n",
       "</style>\n",
       "<table border=\"1\" class=\"dataframe\">\n",
       "  <thead>\n",
       "    <tr style=\"text-align: right;\">\n",
       "      <th></th>\n",
       "      <th>id</th>\n",
       "      <th>V1</th>\n",
       "      <th>V2</th>\n",
       "      <th>V3</th>\n",
       "      <th>V4</th>\n",
       "      <th>V5</th>\n",
       "      <th>V6</th>\n",
       "      <th>V7</th>\n",
       "      <th>V8</th>\n",
       "      <th>V9</th>\n",
       "      <th>...</th>\n",
       "      <th>V20</th>\n",
       "      <th>V21</th>\n",
       "      <th>V22</th>\n",
       "      <th>V23</th>\n",
       "      <th>V24</th>\n",
       "      <th>V25</th>\n",
       "      <th>V26</th>\n",
       "      <th>V27</th>\n",
       "      <th>V28</th>\n",
       "      <th>Amount</th>\n",
       "    </tr>\n",
       "    <tr>\n",
       "      <th>Class</th>\n",
       "      <th></th>\n",
       "      <th></th>\n",
       "      <th></th>\n",
       "      <th></th>\n",
       "      <th></th>\n",
       "      <th></th>\n",
       "      <th></th>\n",
       "      <th></th>\n",
       "      <th></th>\n",
       "      <th></th>\n",
       "      <th></th>\n",
       "      <th></th>\n",
       "      <th></th>\n",
       "      <th></th>\n",
       "      <th></th>\n",
       "      <th></th>\n",
       "      <th></th>\n",
       "      <th></th>\n",
       "      <th></th>\n",
       "      <th></th>\n",
       "      <th></th>\n",
       "    </tr>\n",
       "  </thead>\n",
       "  <tbody>\n",
       "    <tr>\n",
       "      <th>0</th>\n",
       "      <td>142442.987714</td>\n",
       "      <td>0.505761</td>\n",
       "      <td>-0.491878</td>\n",
       "      <td>0.682095</td>\n",
       "      <td>-0.735981</td>\n",
       "      <td>0.338639</td>\n",
       "      <td>0.435088</td>\n",
       "      <td>0.491234</td>\n",
       "      <td>-0.144294</td>\n",
       "      <td>0.585522</td>\n",
       "      <td>...</td>\n",
       "      <td>-0.179851</td>\n",
       "      <td>-0.10964</td>\n",
       "      <td>-0.014098</td>\n",
       "      <td>-0.010255</td>\n",
       "      <td>0.130107</td>\n",
       "      <td>-0.061847</td>\n",
       "      <td>-0.071052</td>\n",
       "      <td>-0.214002</td>\n",
       "      <td>-0.102024</td>\n",
       "      <td>12026.313506</td>\n",
       "    </tr>\n",
       "    <tr>\n",
       "      <th>1</th>\n",
       "      <td>426186.012286</td>\n",
       "      <td>-0.505761</td>\n",
       "      <td>0.491878</td>\n",
       "      <td>-0.682095</td>\n",
       "      <td>0.735981</td>\n",
       "      <td>-0.338639</td>\n",
       "      <td>-0.435088</td>\n",
       "      <td>-0.491234</td>\n",
       "      <td>0.144294</td>\n",
       "      <td>-0.585522</td>\n",
       "      <td>...</td>\n",
       "      <td>0.179851</td>\n",
       "      <td>0.10964</td>\n",
       "      <td>0.014098</td>\n",
       "      <td>0.010255</td>\n",
       "      <td>-0.130107</td>\n",
       "      <td>0.061847</td>\n",
       "      <td>0.071052</td>\n",
       "      <td>0.214002</td>\n",
       "      <td>0.102024</td>\n",
       "      <td>12057.601763</td>\n",
       "    </tr>\n",
       "  </tbody>\n",
       "</table>\n",
       "<p>2 rows × 30 columns</p>\n",
       "</div>"
      ],
      "text/plain": [
       "                  id        V1        V2        V3        V4        V5  \\\n",
       "Class                                                                    \n",
       "0      142442.987714  0.505761 -0.491878  0.682095 -0.735981  0.338639   \n",
       "1      426186.012286 -0.505761  0.491878 -0.682095  0.735981 -0.338639   \n",
       "\n",
       "             V6        V7        V8        V9  ...       V20      V21  \\\n",
       "Class                                          ...                      \n",
       "0      0.435088  0.491234 -0.144294  0.585522  ... -0.179851 -0.10964   \n",
       "1     -0.435088 -0.491234  0.144294 -0.585522  ...  0.179851  0.10964   \n",
       "\n",
       "            V22       V23       V24       V25       V26       V27       V28  \\\n",
       "Class                                                                         \n",
       "0     -0.014098 -0.010255  0.130107 -0.061847 -0.071052 -0.214002 -0.102024   \n",
       "1      0.014098  0.010255 -0.130107  0.061847  0.071052  0.214002  0.102024   \n",
       "\n",
       "             Amount  \n",
       "Class                \n",
       "0      12026.313506  \n",
       "1      12057.601763  \n",
       "\n",
       "[2 rows x 30 columns]"
      ]
     },
     "execution_count": 28,
     "metadata": {},
     "output_type": "execute_result"
    }
   ],
   "source": [
    "new_dataset.groupby('Class').mean()"
   ]
  },
  {
   "cell_type": "markdown",
   "id": "2e1ceb4e",
   "metadata": {},
   "source": [
    "splitting the data into features and targets"
   ]
  },
  {
   "cell_type": "code",
   "execution_count": 30,
   "id": "83721e2c",
   "metadata": {},
   "outputs": [],
   "source": [
    "X = new_dataset.drop(columns = 'Class', axis=1)\n",
    "Y = new_dataset['Class']"
   ]
  },
  {
   "cell_type": "code",
   "execution_count": 31,
   "id": "883b7efd",
   "metadata": {},
   "outputs": [
    {
     "name": "stdout",
     "output_type": "stream",
     "text": [
      "            id        V1        V2        V3        V4        V5        V6  \\\n",
      "151851  151851  0.050362 -0.233405 -0.115336 -1.502457  2.361060  2.031144   \n",
      "84837    84837  1.024274 -0.432663  0.506353 -0.352160  0.156764  0.131606   \n",
      "46183    46183  0.822001 -0.453595  0.381079 -0.517326  0.631514  1.190157   \n",
      "233650  233650 -0.613439 -1.287741  0.770323 -0.595613  1.119087  1.317475   \n",
      "62607    62607  0.868684 -0.286414  0.737568  0.303073  0.210111  0.147583   \n",
      "...        ...       ...       ...       ...       ...       ...       ...   \n",
      "568625  568625 -0.833437  0.061886 -0.899794  0.904227 -1.002401  0.481454   \n",
      "568626  568626 -0.670459 -0.202896 -0.068129 -0.267328 -0.133660  0.237148   \n",
      "568627  568627 -0.311997 -0.004095  0.137526 -0.035893 -0.042291  0.121098   \n",
      "568628  568628  0.636871 -0.516970 -0.300889 -0.144480  0.131042 -0.294148   \n",
      "568629  568629 -0.795144  0.433236 -0.649140  0.374732 -0.244976 -0.603493   \n",
      "\n",
      "              V7        V8        V9  ...       V20       V21       V22  \\\n",
      "151851  0.817850 -0.095810  1.404214  ... -0.236842 -0.122715  0.403061   \n",
      "84837   0.450307 -0.160316  0.755686  ... -0.437964 -0.127360 -0.092112   \n",
      "46183   0.454925 -0.054555  0.214868  ... -0.282496 -0.184562 -0.558617   \n",
      "233650  0.288610  0.035924  0.627429  ... -0.633545 -0.037250  1.287826   \n",
      "62607   0.563656 -0.174491  0.020596  ... -0.319148 -0.089002 -0.054586   \n",
      "...          ...       ...       ...  ...       ...       ...       ...   \n",
      "568625 -0.370393  0.189694 -0.938153  ... -0.751011  0.167503  0.419731   \n",
      "568626 -0.016935 -0.147733  0.483894  ... -0.550260  0.031874  0.388161   \n",
      "568627 -0.070958 -0.019997 -0.122048  ... -0.076417  0.140788  0.536523   \n",
      "568628  0.580568 -0.207723  0.893527  ...  0.288186 -0.060381 -0.195609   \n",
      "568629 -0.347613 -0.340814  0.253971  ... -0.621378  0.534853 -0.291514   \n",
      "\n",
      "             V23       V24       V25       V26       V27       V28    Amount  \n",
      "151851 -0.177742  1.530637  0.309471  0.496081 -0.519720 -0.453849  23462.90  \n",
      "84837  -0.081990  0.240578  0.815482  1.239032 -0.290039 -0.115142   6355.80  \n",
      "46183   0.154592 -2.138498 -0.081511  0.367442 -0.232525 -0.121493  23672.85  \n",
      "233650  1.458250 -1.461708  0.113920  1.735833 -0.562827  0.063232   6856.96  \n",
      "62607  -0.013120  1.250487  0.635627  0.015996 -0.262431 -0.041577  11047.88  \n",
      "...          ...       ...       ...       ...       ...       ...       ...  \n",
      "568625  1.288249 -0.900861  0.560661 -0.006018  3.308968  0.081564   4394.16  \n",
      "568626 -0.154257 -0.846452 -0.153443  1.961398 -1.528642  1.704306   4653.40  \n",
      "568627 -0.211100 -0.448909  0.540073 -0.755836 -0.487540 -0.268741  23572.85  \n",
      "568628 -0.175488 -0.554643 -0.099669 -1.434931 -0.159269 -0.076251  10160.83  \n",
      "568629  0.157303  0.931030 -0.349423 -1.090974 -1.575113  0.722936  21493.92  \n",
      "\n",
      "[568630 rows x 30 columns]\n"
     ]
    }
   ],
   "source": [
    "print(X)"
   ]
  },
  {
   "cell_type": "code",
   "execution_count": 32,
   "id": "12fe33ae",
   "metadata": {},
   "outputs": [
    {
     "name": "stdout",
     "output_type": "stream",
     "text": [
      "151851    0\n",
      "84837     0\n",
      "46183     0\n",
      "233650    0\n",
      "62607     0\n",
      "         ..\n",
      "568625    1\n",
      "568626    1\n",
      "568627    1\n",
      "568628    1\n",
      "568629    1\n",
      "Name: Class, Length: 568630, dtype: int64\n"
     ]
    }
   ],
   "source": [
    "print(Y)"
   ]
  },
  {
   "cell_type": "markdown",
   "id": "868302ed",
   "metadata": {},
   "source": [
    "split the data into training data and testing data\n"
   ]
  },
  {
   "cell_type": "code",
   "execution_count": 33,
   "id": "7d5d7930",
   "metadata": {},
   "outputs": [],
   "source": [
    "X_train, X_test, Y_train, Y_test = train_test_split(X, Y, test_size=0.2, stratify=Y, random_state=2)"
   ]
  },
  {
   "cell_type": "code",
   "execution_count": 34,
   "id": "8614e384",
   "metadata": {},
   "outputs": [
    {
     "name": "stdout",
     "output_type": "stream",
     "text": [
      "(568630, 30) (454904, 30) (113726, 30)\n"
     ]
    }
   ],
   "source": [
    "print(X.shape, X_train.shape, X_test.shape)"
   ]
  },
  {
   "cell_type": "markdown",
   "id": "46379339",
   "metadata": {},
   "source": [
    " Model Training"
   ]
  },
  {
   "cell_type": "markdown",
   "id": "dc430b85",
   "metadata": {},
   "source": [
    "Logistic Regression"
   ]
  },
  {
   "cell_type": "code",
   "execution_count": 35,
   "id": "196919f4",
   "metadata": {},
   "outputs": [],
   "source": [
    "model= LogisticRegression()"
   ]
  },
  {
   "cell_type": "code",
   "execution_count": 36,
   "id": "6b27811a",
   "metadata": {},
   "outputs": [
    {
     "data": {
      "text/plain": [
       "LogisticRegression()"
      ]
     },
     "execution_count": 36,
     "metadata": {},
     "output_type": "execute_result"
    }
   ],
   "source": [
    "model.fit(X_train, Y_train)"
   ]
  },
  {
   "cell_type": "markdown",
   "id": "f5b5a170",
   "metadata": {},
   "source": [
    " Model Evalution"
   ]
  },
  {
   "cell_type": "code",
   "execution_count": 48,
   "id": "2a610ae9",
   "metadata": {},
   "outputs": [
    {
     "name": "stdout",
     "output_type": "stream",
     "text": [
      "Accuracy of Training data: 0.791004255842991\n"
     ]
    }
   ],
   "source": [
    "# Model Evaluation\n",
    "X_train_pred = model.predict(X_train)\n",
    "training_data_accuracy = accuracy_score(X_train_pred, Y_train)\n",
    "print('Accuracy of Training data:', training_data_accuracy)"
   ]
  },
  {
   "cell_type": "code",
   "execution_count": 49,
   "id": "f82081b2",
   "metadata": {},
   "outputs": [
    {
     "name": "stdout",
     "output_type": "stream",
     "text": [
      "Accuracy of Testing data: 0.792351792905756\n",
      "[[37948  4700]\n",
      " [18915 52163]]\n",
      "              precision    recall  f1-score   support\n",
      "\n",
      "           0       0.67      0.89      0.76     42648\n",
      "           1       0.92      0.73      0.82     71078\n",
      "\n",
      "    accuracy                           0.79    113726\n",
      "   macro avg       0.79      0.81      0.79    113726\n",
      "weighted avg       0.82      0.79      0.80    113726\n",
      "\n"
     ]
    }
   ],
   "source": [
    "X_test_pred = model.predict(X_test)\n",
    "test_data_accuracy = accuracy_score(X_test_pred, Y_test)\n",
    "print('Accuracy of Testing data:', test_data_accuracy)\n",
    "# confusion matrix and classification report of test data:\n",
    "print(confusion_matrix(X_test_pred, Y_test))\n",
    "print(classification_report(X_test_pred, Y_test))"
   ]
  },
  {
   "cell_type": "code",
   "execution_count": null,
   "id": "fce0053c",
   "metadata": {},
   "outputs": [],
   "source": []
  }
 ],
 "metadata": {
  "kernelspec": {
   "display_name": "Python 3 (ipykernel)",
   "language": "python",
   "name": "python3"
  },
  "language_info": {
   "codemirror_mode": {
    "name": "ipython",
    "version": 3
   },
   "file_extension": ".py",
   "mimetype": "text/x-python",
   "name": "python",
   "nbconvert_exporter": "python",
   "pygments_lexer": "ipython3",
   "version": "3.9.12"
  }
 },
 "nbformat": 4,
 "nbformat_minor": 5
}
